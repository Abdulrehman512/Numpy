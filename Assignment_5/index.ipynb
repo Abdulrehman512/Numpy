{
 "cells": [
  {
   "cell_type": "code",
   "execution_count": 1,
   "metadata": {},
   "outputs": [],
   "source": [
    "import numpy as np"
   ]
  },
  {
   "cell_type": "markdown",
   "metadata": {},
   "source": [
    "#### 45. How to Convert higher dimension into one dimension?"
   ]
  },
  {
   "cell_type": "code",
   "execution_count": 2,
   "metadata": {},
   "outputs": [
    {
     "name": "stdout",
     "output_type": "stream",
     "text": [
      "Higher-dimensional Array:\n",
      "[[1 2 3]\n",
      " [4 5 6]\n",
      " [7 8 9]]\n",
      "\n",
      "Flattened 1D Array:\n",
      "[1 2 3 4 5 6 7 8 9]\n"
     ]
    }
   ],
   "source": [
    "# Create a higher-dimensional array\n",
    "higher_dimensional_array = np.array([[1, 2, 3], [4, 5, 6], [7, 8, 9]])\n",
    "\n",
    "# Flatten the array to one dimension\n",
    "one_dimensional_array = higher_dimensional_array.flatten()\n",
    "\n",
    "print(\"Higher-dimensional Array:\")\n",
    "print(higher_dimensional_array)\n",
    "print(\"\\nFlattened 1D Array:\")\n",
    "print(one_dimensional_array)"
   ]
  },
  {
   "cell_type": "markdown",
   "metadata": {},
   "source": [
    "#### 46. Convert one dimension to higher dimension?"
   ]
  },
  {
   "cell_type": "code",
   "execution_count": 3,
   "metadata": {},
   "outputs": [
    {
     "name": "stdout",
     "output_type": "stream",
     "text": [
      "One-dimensional Array:\n",
      "[1 2 3 4 5 6]\n",
      "\n",
      "Converted 2x3 Higher-dimensional Array:\n",
      "[[1 2 3]\n",
      " [4 5 6]]\n"
     ]
    }
   ],
   "source": [
    "\n",
    "# Create a one-dimensional array\n",
    "one_dimensional_array = np.array([1, 2, 3, 4, 5, 6])\n",
    "\n",
    "# Convert to a higher-dimensional array, for example, 2x3\n",
    "higher_dimensional_array = one_dimensional_array.reshape(2, 3)\n",
    "\n",
    "print(\"One-dimensional Array:\")\n",
    "print(one_dimensional_array)\n",
    "print(\"\\nConverted 2x3 Higher-dimensional Array:\")\n",
    "print(higher_dimensional_array)"
   ]
  },
  {
   "cell_type": "markdown",
   "metadata": {},
   "source": [
    "#### 47. Create 5x5 an array and find the square of an array?"
   ]
  },
  {
   "cell_type": "code",
   "execution_count": 4,
   "metadata": {},
   "outputs": [
    {
     "name": "stdout",
     "output_type": "stream",
     "text": [
      "Original 5x5 Array:\n",
      "[[0.63271498 0.01934633 0.20518578 0.03405324 0.53696285]\n",
      " [0.2921336  0.4414863  0.03504864 0.99749671 0.82639148]\n",
      " [0.15434572 0.79741023 0.16259484 0.28139906 0.96620204]\n",
      " [0.13746353 0.65074825 0.289177   0.63307506 0.21816344]\n",
      " [0.78747365 0.41041402 0.69688404 0.14079793 0.42263494]]\n",
      "\n",
      "Array after squaring each element:\n",
      "[[4.00328240e-01 3.74280365e-04 4.21012057e-02 1.15962304e-03\n",
      "  2.88329107e-01]\n",
      " [8.53420417e-02 1.94910154e-01 1.22840696e-03 9.94999685e-01\n",
      "  6.82922873e-01]\n",
      " [2.38226014e-02 6.35863070e-01 2.64370804e-02 7.91854289e-02\n",
      "  9.33546386e-01]\n",
      " [1.88962210e-02 4.23473283e-01 8.36233352e-02 4.00784032e-01\n",
      "  4.75952876e-02]\n",
      " [6.20114745e-01 1.68439665e-01 4.85647361e-01 1.98240583e-02\n",
      "  1.78620289e-01]]\n"
     ]
    }
   ],
   "source": [
    "# Create a 5x5 array\n",
    "array_5x5 = np.random.rand(5, 5)\n",
    "\n",
    "# Find the square of each element in the array\n",
    "array_squared = np.square(array_5x5)\n",
    "\n",
    "print(\"Original 5x5 Array:\")\n",
    "print(array_5x5)\n",
    "print(\"\\nArray after squaring each element:\")\n",
    "print(array_squared)"
   ]
  },
  {
   "cell_type": "markdown",
   "metadata": {},
   "source": [
    "#### 48. Create 5x6 an array and find the mean?"
   ]
  },
  {
   "cell_type": "code",
   "execution_count": 5,
   "metadata": {},
   "outputs": [
    {
     "name": "stdout",
     "output_type": "stream",
     "text": [
      "Original 5x6 Array:\n",
      "[[0.4819685  0.66295089 0.87965849 0.57656695 0.60455895 0.63691127]\n",
      " [0.70187559 0.56747294 0.45670495 0.20337257 0.21637577 0.69890251]\n",
      " [0.35526646 0.92453279 0.99690125 0.03737372 0.83423873 0.31177624]\n",
      " [0.96163417 0.44747319 0.7814708  0.01918667 0.87402939 0.14775969]\n",
      " [0.14649612 0.64743991 0.50429334 0.65765347 0.20276648 0.24344057]]\n",
      "\n",
      "Mean of the Array:\n",
      "0.5260350781226936\n"
     ]
    }
   ],
   "source": [
    "# Create a 5x6 array\n",
    "array_5x6 = np.random.rand(5, 6)\n",
    "\n",
    "# Calculate the mean of the array\n",
    "array_mean = np.mean(array_5x6)\n",
    "\n",
    "print(\"Original 5x6 Array:\")\n",
    "print(array_5x6)\n",
    "print(\"\\nMean of the Array:\")\n",
    "print(array_mean)"
   ]
  },
  {
   "cell_type": "markdown",
   "metadata": {},
   "source": [
    "#### 49. Find the standard deviation of the previous array in Q48?"
   ]
  },
  {
   "cell_type": "code",
   "execution_count": 6,
   "metadata": {},
   "outputs": [
    {
     "name": "stdout",
     "output_type": "stream",
     "text": [
      "Original 5x6 Array:\n",
      "[[0.4819685  0.66295089 0.87965849 0.57656695 0.60455895 0.63691127]\n",
      " [0.70187559 0.56747294 0.45670495 0.20337257 0.21637577 0.69890251]\n",
      " [0.35526646 0.92453279 0.99690125 0.03737372 0.83423873 0.31177624]\n",
      " [0.96163417 0.44747319 0.7814708  0.01918667 0.87402939 0.14775969]\n",
      " [0.14649612 0.64743991 0.50429334 0.65765347 0.20276648 0.24344057]]\n",
      "\n",
      "Standard Deviation of the Array:\n",
      "0.2808701679170779\n"
     ]
    }
   ],
   "source": [
    "# Assuming array_5x6 is the previously created 5x6 array\n",
    "array_std_dev = np.std(array_5x6)\n",
    "\n",
    "print(\"Original 5x6 Array:\")\n",
    "print(array_5x6)\n",
    "print(\"\\nStandard Deviation of the Array:\")\n",
    "print(array_std_dev)"
   ]
  },
  {
   "cell_type": "markdown",
   "metadata": {},
   "source": [
    "#### 50. Find the median of the previous array in Q48?"
   ]
  },
  {
   "cell_type": "code",
   "execution_count": 7,
   "metadata": {},
   "outputs": [
    {
     "name": "stdout",
     "output_type": "stream",
     "text": [
      "Original 5x6 Array:\n",
      "[[0.4819685  0.66295089 0.87965849 0.57656695 0.60455895 0.63691127]\n",
      " [0.70187559 0.56747294 0.45670495 0.20337257 0.21637577 0.69890251]\n",
      " [0.35526646 0.92453279 0.99690125 0.03737372 0.83423873 0.31177624]\n",
      " [0.96163417 0.44747319 0.7814708  0.01918667 0.87402939 0.14775969]\n",
      " [0.14649612 0.64743991 0.50429334 0.65765347 0.20276648 0.24344057]]\n",
      "\n",
      "Median of the Array:\n",
      "0.5720199404443039\n"
     ]
    }
   ],
   "source": [
    "# Assuming array_5x6 is the previously created 5x6 array\n",
    "array_median = np.median(array_5x6)\n",
    "\n",
    "print(\"Original 5x6 Array:\")\n",
    "print(array_5x6)\n",
    "print(\"\\nMedian of the Array:\")\n",
    "print(array_median)"
   ]
  },
  {
   "cell_type": "markdown",
   "metadata": {},
   "source": [
    "#### 51. Find the transpose of the previous array in Q48?"
   ]
  },
  {
   "cell_type": "code",
   "execution_count": 8,
   "metadata": {},
   "outputs": [
    {
     "name": "stdout",
     "output_type": "stream",
     "text": [
      "Original 5x6 Array:\n",
      "[[0.4819685  0.66295089 0.87965849 0.57656695 0.60455895 0.63691127]\n",
      " [0.70187559 0.56747294 0.45670495 0.20337257 0.21637577 0.69890251]\n",
      " [0.35526646 0.92453279 0.99690125 0.03737372 0.83423873 0.31177624]\n",
      " [0.96163417 0.44747319 0.7814708  0.01918667 0.87402939 0.14775969]\n",
      " [0.14649612 0.64743991 0.50429334 0.65765347 0.20276648 0.24344057]]\n",
      "\n",
      "Transpose of the Array:\n",
      "[[0.4819685  0.70187559 0.35526646 0.96163417 0.14649612]\n",
      " [0.66295089 0.56747294 0.92453279 0.44747319 0.64743991]\n",
      " [0.87965849 0.45670495 0.99690125 0.7814708  0.50429334]\n",
      " [0.57656695 0.20337257 0.03737372 0.01918667 0.65765347]\n",
      " [0.60455895 0.21637577 0.83423873 0.87402939 0.20276648]\n",
      " [0.63691127 0.69890251 0.31177624 0.14775969 0.24344057]]\n"
     ]
    }
   ],
   "source": [
    "# Assuming array_5x6 is the previously created 5x6 array\n",
    "array_transpose = np.transpose(array_5x6)\n",
    "\n",
    "print(\"Original 5x6 Array:\")\n",
    "print(array_5x6)\n",
    "print(\"\\nTranspose of the Array:\")\n",
    "print(array_transpose)"
   ]
  },
  {
   "cell_type": "markdown",
   "metadata": {},
   "source": [
    "#### 52. Create a 4x4 an array and find the sum of diagonal elements?"
   ]
  },
  {
   "cell_type": "code",
   "execution_count": 9,
   "metadata": {},
   "outputs": [
    {
     "name": "stdout",
     "output_type": "stream",
     "text": [
      "Original 4x4 Array:\n",
      "[[0.58239367 0.58019403 0.17607498 0.32731162]\n",
      " [0.74888001 0.08132227 0.1647792  0.53234713]\n",
      " [0.98675978 0.89991118 0.0071927  0.88497872]\n",
      " [0.17473285 0.50869406 0.49564767 0.36159873]]\n",
      "\n",
      "Sum of Diagonal Elements:\n",
      "1.0325073792177344\n"
     ]
    }
   ],
   "source": [
    "# Create a 4x4 array\n",
    "array_4x4 = np.random.rand(4, 4)\n",
    "\n",
    "# Find the sum of diagonal elements\n",
    "diagonal_sum = np.trace(array_4x4)\n",
    "\n",
    "print(\"Original 4x4 Array:\")\n",
    "print(array_4x4)\n",
    "print(\"\\nSum of Diagonal Elements:\")\n",
    "print(diagonal_sum)"
   ]
  },
  {
   "cell_type": "markdown",
   "metadata": {},
   "source": [
    "#### 53. Find the determinant of the previous array in Q52?"
   ]
  },
  {
   "cell_type": "code",
   "execution_count": 10,
   "metadata": {},
   "outputs": [
    {
     "name": "stdout",
     "output_type": "stream",
     "text": [
      "Original 4x4 Array:\n",
      "[[0.58239367 0.58019403 0.17607498 0.32731162]\n",
      " [0.74888001 0.08132227 0.1647792  0.53234713]\n",
      " [0.98675978 0.89991118 0.0071927  0.88497872]\n",
      " [0.17473285 0.50869406 0.49564767 0.36159873]]\n",
      "\n",
      "Determinant of the Array:\n",
      "0.08550990235591356\n"
     ]
    }
   ],
   "source": [
    "\n",
    "# Assuming array_4x4 is the previously created 4x4 array\n",
    "array_determinant = np.linalg.det(array_4x4)\n",
    "\n",
    "print(\"Original 4x4 Array:\")\n",
    "print(array_4x4)\n",
    "print(\"\\nDeterminant of the Array:\")\n",
    "print(array_determinant)"
   ]
  },
  {
   "cell_type": "markdown",
   "metadata": {},
   "source": [
    "#### 54. Find the 5th and 95th percentile of an array?"
   ]
  },
  {
   "cell_type": "code",
   "execution_count": 11,
   "metadata": {},
   "outputs": [
    {
     "name": "stdout",
     "output_type": "stream",
     "text": [
      "Original Array:\n",
      "[0.15214473 0.1375475  0.74355509 0.05547173 0.05274863 0.66671639\n",
      " 0.72493564 0.85542031 0.24816859 0.18009281 0.15367439 0.78808882\n",
      " 0.84216944 0.96314415 0.42910374 0.92948988 0.13669198 0.42212458\n",
      " 0.81635637 0.33190885 0.54712357 0.97233272 0.84080876 0.21372891\n",
      " 0.44324131 0.92872108 0.77991849 0.25395289 0.30657316 0.55054215\n",
      " 0.2783617  0.17975971 0.1480797  0.31515403 0.91118847 0.61452247\n",
      " 0.43856279 0.48369348 0.33182206 0.8726261  0.05001568 0.99445638\n",
      " 0.7715511  0.47176371 0.03141186 0.60294763 0.5867543  0.43861251\n",
      " 0.71068244 0.14391677 0.449641   0.52004888 0.54379481 0.2789324\n",
      " 0.48348269 0.14409922 0.81344037 0.21836629 0.64792673 0.29986964\n",
      " 0.74572776 0.986441   0.45514777 0.32054409 0.14805038 0.10621841\n",
      " 0.29783578 0.24981995 0.71504872 0.45693808 0.653829   0.35325953\n",
      " 0.94576377 0.36936687 0.26583195 0.15023605 0.69294767 0.7810982\n",
      " 0.40195409 0.8842264  0.73698187 0.25934698 0.75240287 0.74757787\n",
      " 0.51294076 0.60014972 0.77053034 0.92562658 0.03507297 0.79463342\n",
      " 0.50531727 0.43296175 0.51869477 0.87357992 0.96983013 0.7815758\n",
      " 0.38695434 0.17234086 0.86553191 0.12444219]\n",
      "\n",
      "5th Percentile: 0.1036810762733995\n",
      "95th Percentile: 0.9466327874302344\n"
     ]
    }
   ],
   "source": [
    "# Create an array\n",
    "array_example = np.random.rand(100)\n",
    "\n",
    "# Find the 5th and 95th percentiles\n",
    "percentile_5th = np.percentile(array_example, 5)\n",
    "percentile_95th = np.percentile(array_example, 95)\n",
    "\n",
    "print(\"Original Array:\")\n",
    "print(array_example)\n",
    "print(\"\\n5th Percentile:\", percentile_5th)\n",
    "print(\"95th Percentile:\", percentile_95th)"
   ]
  },
  {
   "cell_type": "markdown",
   "metadata": {},
   "source": [
    "#### 55. How to find if a given array has any null values?"
   ]
  },
  {
   "cell_type": "code",
   "execution_count": 12,
   "metadata": {},
   "outputs": [
    {
     "name": "stdout",
     "output_type": "stream",
     "text": [
      "Array with Null Values:\n",
      "[ 1.  2. nan  4. nan  6.]\n",
      "\n",
      "Does the array have any null values? True\n"
     ]
    }
   ],
   "source": [
    "# Create an array with some null values\n",
    "array_with_nulls = np.array([1.0, 2.0, np.nan, 4.0, np.nan, 6.0])\n",
    "\n",
    "# Check for null values\n",
    "has_null_values = np.isnan(array_with_nulls).any()\n",
    "\n",
    "print(\"Array with Null Values:\")\n",
    "print(array_with_nulls)\n",
    "print(\"\\nDoes the array have any null values?\", has_null_values)"
   ]
  },
  {
   "cell_type": "markdown",
   "metadata": {},
   "source": []
  }
 ],
 "metadata": {
  "kernelspec": {
   "display_name": "base",
   "language": "python",
   "name": "python3"
  },
  "language_info": {
   "codemirror_mode": {
    "name": "ipython",
    "version": 3
   },
   "file_extension": ".py",
   "mimetype": "text/x-python",
   "name": "python",
   "nbconvert_exporter": "python",
   "pygments_lexer": "ipython3",
   "version": "3.11.5"
  }
 },
 "nbformat": 4,
 "nbformat_minor": 2
}
