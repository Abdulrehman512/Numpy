{
 "cells": [
  {
   "cell_type": "code",
   "execution_count": 1,
   "metadata": {},
   "outputs": [],
   "source": [
    "import numpy as np"
   ]
  },
  {
   "cell_type": "markdown",
   "metadata": {},
   "source": [
    "#### 34. Create an array of size 10, and find the square root of every element in the array, if the values less than 0.5, replace them with 0"
   ]
  },
  {
   "cell_type": "code",
   "execution_count": 2,
   "metadata": {},
   "outputs": [
    {
     "name": "stdout",
     "output_type": "stream",
     "text": [
      "[0.8180953  0.86616218 0.71019618 0.61445599 0.62000701 0.78844528\n",
      " 0.         0.5460569  0.51581654 0.        ]\n"
     ]
    }
   ],
   "source": [
    "arr = np.random.rand(10)\n",
    "arr_sqrt = np.sqrt(arr)\n",
    "arr_sqrt[arr_sqrt < 0.5] = 0\n",
    "print(arr_sqrt)"
   ]
  },
  {
   "cell_type": "markdown",
   "metadata": {},
   "source": [
    "#### 35. Create two random arrays of range 12 and make an array with the maximum values between each element of the two arrays"
   ]
  },
  {
   "cell_type": "code",
   "execution_count": 3,
   "metadata": {},
   "outputs": [
    {
     "name": "stdout",
     "output_type": "stream",
     "text": [
      "Array 1: [0.66182468 0.32729661 0.43376447 0.75221442 0.39637627 0.53654219\n",
      " 0.37518886 0.93293727 0.32998755 0.36788233 0.08708702 0.44076064]\n",
      "Array 2: [0.39181291 0.30629825 0.95548386 0.19291124 0.95939057 0.61007571\n",
      " 0.59601497 0.70178262 0.01227686 0.01668962 0.40279933 0.39788952]\n",
      "Maximum values between arrays: [0.66182468 0.32729661 0.95548386 0.75221442 0.95939057 0.61007571\n",
      " 0.59601497 0.93293727 0.32998755 0.36788233 0.40279933 0.44076064]\n"
     ]
    }
   ],
   "source": [
    "\n",
    "# Create two random arrays of range 12\n",
    "arr1 = np.random.rand(12)\n",
    "arr2 = np.random.rand(12)\n",
    "\n",
    "# Make an array with the maximum values between each element of the two arrays\n",
    "max_values = np.maximum(arr1, arr2)\n",
    "\n",
    "print(\"Array 1:\", arr1)\n",
    "print(\"Array 2:\", arr2)\n",
    "print(\"Maximum values between arrays:\", max_values)\n"
   ]
  },
  {
   "cell_type": "markdown",
   "metadata": {},
   "source": [
    "#### 36. names = np.array(['Bob', 'Joe', 'Will', 'Bob', 'Will', 'Joe', 'Joe'])\n",
    "\n",
    "---\n",
    "Find the unique names and sort them out!\n"
   ]
  },
  {
   "cell_type": "code",
   "execution_count": 4,
   "metadata": {},
   "outputs": [
    {
     "name": "stdout",
     "output_type": "stream",
     "text": [
      "Original Names: ['Bob' 'Joe' 'Will' 'Bob' 'Will' 'Joe' 'Joe']\n",
      "Unique and Sorted Names: ['Bob' 'Joe' 'Will']\n"
     ]
    }
   ],
   "source": [
    "names = np.array(['Bob', 'Joe', 'Will', 'Bob', 'Will', 'Joe', 'Joe'])\n",
    "\n",
    "# Find unique names\n",
    "unique_names = np.unique(names)\n",
    "\n",
    "# Sort the unique names\n",
    "sorted_unique_names = np.sort(unique_names)\n",
    "\n",
    "print(\"Original Names:\", names)\n",
    "print(\"Unique and Sorted Names:\", sorted_unique_names)"
   ]
  },
  {
   "cell_type": "markdown",
   "metadata": {},
   "source": [
    "#### 37. a = np.array([1,2,3,4,5])\n",
    "b = np.array([5,6,7,8,9])\n",
    "\n",
    "---\n",
    "From array a remove all items present in array b\n",
    "\n"
   ]
  },
  {
   "cell_type": "code",
   "execution_count": 5,
   "metadata": {},
   "outputs": [
    {
     "name": "stdout",
     "output_type": "stream",
     "text": [
      "Array a: [1 2 3 4 5]\n",
      "Array b: [5 6 7 8 9]\n",
      "Result after removing items present in b from a: [1 2 3 4]\n"
     ]
    }
   ],
   "source": [
    "a = np.array([1, 2, 3, 4, 5])\n",
    "b = np.array([5, 6, 7, 8, 9])\n",
    "\n",
    "# Remove items present in array b from array a\n",
    "result = np.setdiff1d(a, b)\n",
    "\n",
    "print(\"Array a:\", a)\n",
    "print(\"Array b:\", b)\n",
    "print(\"Result after removing items present in b from a:\", result)"
   ]
  },
  {
   "cell_type": "markdown",
   "metadata": {},
   "source": [
    "#### 38.  Following is the input NumPy array delete column two and insert following new column in its place.\n",
    "\n",
    "---\n",
    "sampleArray = numpy.array([[34,43,73],[82,22,12],[53,94,66]]) \n",
    "\n",
    "\n",
    "---\n",
    "\n",
    "newColumn = numpy.array([[10,10,10]])\n"
   ]
  },
  {
   "cell_type": "code",
   "execution_count": 6,
   "metadata": {},
   "outputs": [
    {
     "name": "stdout",
     "output_type": "stream",
     "text": [
      "Original Array:\n",
      "[[34 10 73]\n",
      " [82 10 12]\n",
      " [53 10 66]]\n"
     ]
    }
   ],
   "source": [
    "sampleArray = np.array([[34, 43, 73], [82, 22, 12], [53, 94, 66]])\n",
    "newColumn = np.array([[10, 10, 10]])\n",
    "\n",
    "# Delete column two\n",
    "sampleArray = np.delete(sampleArray, 1, axis=1)\n",
    "\n",
    "# Insert the new column in its place\n",
    "sampleArray = np.insert(sampleArray, 1, newColumn, axis=1)\n",
    "\n",
    "print(\"Original Array:\")\n",
    "print(sampleArray)"
   ]
  },
  {
   "cell_type": "markdown",
   "metadata": {},
   "source": [
    "#### 39. x = np.array([[1., 2., 3.], [4., 5., 6.]]) y = np.array([[6., 23.], [-1, 7], [8, 9]])\n",
    "\n",
    "\n",
    "---\n",
    "Find the dot product of the above two matrix\n"
   ]
  },
  {
   "cell_type": "code",
   "execution_count": 7,
   "metadata": {},
   "outputs": [
    {
     "name": "stdout",
     "output_type": "stream",
     "text": [
      "Matrix x:\n",
      "[[1. 2. 3.]\n",
      " [4. 5. 6.]]\n",
      "\n",
      "Matrix y:\n",
      "[[ 6. 23.]\n",
      " [-1.  7.]\n",
      " [ 8.  9.]]\n",
      "\n",
      "Dot Product:\n",
      "[[ 28.  64.]\n",
      " [ 67. 181.]]\n"
     ]
    }
   ],
   "source": [
    "x = np.array([[1., 2., 3.], [4., 5., 6.]])\n",
    "y = np.array([[6., 23.], [-1, 7], [8, 9]])\n",
    "\n",
    "# Calculate the dot product\n",
    "dot_product = np.dot(x, y)  # or simply x @ y\n",
    "\n",
    "print(\"Matrix x:\")\n",
    "print(x)\n",
    "print(\"\\nMatrix y:\")\n",
    "print(y)\n",
    "print(\"\\nDot Product:\")\n",
    "print(dot_product)"
   ]
  },
  {
   "cell_type": "markdown",
   "metadata": {},
   "source": [
    "#### 40. Generate a matrix of 20 random values and find its cumulative sum"
   ]
  },
  {
   "cell_type": "code",
   "execution_count": 8,
   "metadata": {},
   "outputs": [
    {
     "name": "stdout",
     "output_type": "stream",
     "text": [
      "Original Matrix:\n",
      "[[0.80356823 0.78546011 0.35265774 0.78138178 0.65378966]\n",
      " [0.73331497 0.98810062 0.58736155 0.74616503 0.26337128]\n",
      " [0.53180446 0.43736184 0.50706418 0.19922863 0.96000449]\n",
      " [0.73245193 0.10591721 0.15943472 0.15511637 0.05286884]]\n",
      "\n",
      "Cumulative Sum Matrix:\n",
      "[ 0.80356823  1.58902834  1.94168608  2.72306786  3.37685752  4.1101725\n",
      "  5.09827311  5.68563466  6.43179969  6.69517097  7.22697543  7.66433727\n",
      "  8.17140145  8.37063008  9.33063457 10.0630865  10.16900371 10.32843842\n",
      " 10.4835548  10.53642364]\n"
     ]
    }
   ],
   "source": [
    "# Generate a matrix of 20 random values\n",
    "random_matrix = np.random.rand(4, 5)\n",
    "\n",
    "# Calculate the cumulative sum\n",
    "cumulative_sum_matrix = np.cumsum(random_matrix)\n",
    "\n",
    "print(\"Original Matrix:\")\n",
    "print(random_matrix)\n",
    "print(\"\\nCumulative Sum Matrix:\")\n",
    "print(cumulative_sum_matrix)"
   ]
  },
  {
   "cell_type": "markdown",
   "metadata": {},
   "source": [
    "#### 41. Convert a 1D array to a 2D array with 2 rows?"
   ]
  },
  {
   "cell_type": "code",
   "execution_count": 9,
   "metadata": {},
   "outputs": [
    {
     "name": "stdout",
     "output_type": "stream",
     "text": [
      "Original 1D array:\n",
      "[1 2 3 4 5 6 7 8]\n",
      "\n",
      "Converted 2D array with 2 rows:\n",
      "[[1 2 3 4]\n",
      " [5 6 7 8]]\n"
     ]
    }
   ],
   "source": [
    "\n",
    "# Create a 1D array\n",
    "arr_1d = np.array([1, 2, 3, 4, 5, 6, 7, 8])\n",
    "\n",
    "# Convert to a 2D array with 2 rows\n",
    "arr_2d = arr_1d.reshape(2, -1)\n",
    "\n",
    "print(\"Original 1D array:\")\n",
    "print(arr_1d)\n",
    "print(\"\\nConverted 2D array with 2 rows:\")\n",
    "print(arr_2d)"
   ]
  },
  {
   "cell_type": "markdown",
   "metadata": {},
   "source": [
    "#### 42. How to stack two arrays vertically?"
   ]
  },
  {
   "cell_type": "code",
   "execution_count": 10,
   "metadata": {},
   "outputs": [
    {
     "name": "stdout",
     "output_type": "stream",
     "text": [
      "Array 1:\n",
      "[1 2 3]\n",
      "\n",
      "Array 2:\n",
      "[4 5 6]\n",
      "\n",
      "Stacked result vertically:\n",
      "[[1 2 3]\n",
      " [4 5 6]]\n"
     ]
    }
   ],
   "source": [
    "# Create two arrays\n",
    "array1 = np.array([1, 2, 3])\n",
    "array2 = np.array([4, 5, 6])\n",
    "\n",
    "# Stack the arrays vertically\n",
    "result = np.vstack((array1, array2))\n",
    "\n",
    "print(\"Array 1:\")\n",
    "print(array1)\n",
    "print(\"\\nArray 2:\")\n",
    "print(array2)\n",
    "print(\"\\nStacked result vertically:\")\n",
    "print(result)"
   ]
  },
  {
   "cell_type": "markdown",
   "metadata": {},
   "source": [
    "#### 43. How to stack two arrays horizontally?"
   ]
  },
  {
   "cell_type": "code",
   "execution_count": 11,
   "metadata": {},
   "outputs": [
    {
     "name": "stdout",
     "output_type": "stream",
     "text": [
      "Array 1:\n",
      "[1 2 3]\n",
      "\n",
      "Array 2:\n",
      "[4 5 6]\n",
      "\n",
      "Stacked result horizontally:\n",
      "[1 2 3 4 5 6]\n"
     ]
    }
   ],
   "source": [
    "# Create two arrays\n",
    "array1 = np.array([1, 2, 3])\n",
    "array2 = np.array([4, 5, 6])\n",
    "\n",
    "# Stack the arrays horizontally\n",
    "result = np.hstack((array1, array2))\n",
    "\n",
    "print(\"Array 1:\")\n",
    "print(array1)\n",
    "print(\"\\nArray 2:\")\n",
    "print(array2)\n",
    "print(\"\\nStacked result horizontally:\")\n",
    "print(result)"
   ]
  },
  {
   "cell_type": "markdown",
   "metadata": {},
   "source": [
    "#### 44.  How to convert an array of arrays into a flat 1d array?"
   ]
  },
  {
   "cell_type": "code",
   "execution_count": 12,
   "metadata": {},
   "outputs": [
    {
     "name": "stdout",
     "output_type": "stream",
     "text": [
      "Array of Arrays:\n",
      "[[1 2 3]\n",
      " [4 5 6]\n",
      " [7 8 9]]\n",
      "\n",
      "Flat 1D Array:\n",
      "[1 2 3 4 5 6 7 8 9]\n"
     ]
    }
   ],
   "source": [
    "# Create an array of arrays\n",
    "array_of_arrays = np.array([[1, 2, 3], [4, 5, 6], [7, 8, 9]])\n",
    "\n",
    "# Convert to a flat 1D array\n",
    "flat_array = np.concatenate(array_of_arrays).ravel()\n",
    "\n",
    "print(\"Array of Arrays:\")\n",
    "print(array_of_arrays)\n",
    "print(\"\\nFlat 1D Array:\")\n",
    "print(flat_array)"
   ]
  },
  {
   "cell_type": "code",
   "execution_count": null,
   "metadata": {},
   "outputs": [],
   "source": []
  }
 ],
 "metadata": {
  "kernelspec": {
   "display_name": "base",
   "language": "python",
   "name": "python3"
  },
  "language_info": {
   "codemirror_mode": {
    "name": "ipython",
    "version": 3
   },
   "file_extension": ".py",
   "mimetype": "text/x-python",
   "name": "python",
   "nbconvert_exporter": "python",
   "pygments_lexer": "ipython3",
   "version": "3.11.5"
  }
 },
 "nbformat": 4,
 "nbformat_minor": 2
}
